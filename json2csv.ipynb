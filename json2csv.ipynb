file_path = '/content/drive/MyDrive/conversation_history.json'

try:
    # Try reading as CSV with a comma separator first (default for read_csv)
    df = pd.read_csv(file_path)
except Exception as e:
    print(f"Error reading as CSV with comma separator: {e}")
    try:
        # If comma fails, try reading as JSON lines again as it was successful before
        df = pd.read_json(file_path, lines=True)
    except Exception as e:
        print(f"Error reading as JSON lines: {e}")
        # If both fail, try reading as CSV with a different separator, like a tab
        try:
            df = pd.read_csv(file_path, sep='\t')
        except Exception as e:
            print(f"Error reading as CSV with tab separator: {e}")
            # If all attempts fail, create an empty DataFrame
            df = pd.DataFrame()
            print("Could not read the file with common separators. Created an empty DataFrame.")

file_path = '/content/drive/MyDrive/conversation_history.csv'
df.to_csv(file_path, index=False)
print(f"DataFrame saved to {file_path}")
